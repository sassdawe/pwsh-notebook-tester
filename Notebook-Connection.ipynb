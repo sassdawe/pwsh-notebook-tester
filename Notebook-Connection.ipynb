{
 "cells": [
  {
   "cell_type": "markdown",
   "metadata": {},
   "source": [
    "## You can set default variables etc. and use / share them together with the notebook"
   ]
  },
  {
   "cell_type": "code",
   "execution_count": 1,
   "metadata": {
    "dotnet_interactive": {
     "language": "pwsh"
    },
    "polyglot_notebook": {
     "kernelName": "pwsh"
    },
    "vscode": {
     "languageId": "polyglot-notebook"
    }
   },
   "outputs": [],
   "source": [
    "#Requires -modules Az.Accounts\n",
    "\n",
    "Import-module Az.Accounts"
   ]
  },
  {
   "cell_type": "code",
   "execution_count": 4,
   "metadata": {
    "dotnet_interactive": {
     "language": "pwsh"
    },
    "polyglot_notebook": {
     "kernelName": "pwsh"
    },
    "vscode": {
     "languageId": "polyglot-notebook"
    }
   },
   "outputs": [],
   "source": [
    "$OutputEncoding = [Console]::OutputEncoding = [Console]::InputEncoding = [System.Text.UTF8Encoding]::new()\n",
    "[Net.ServicePointManager]::SecurityProtocol = [Net.SecurityProtocolType]::Tls12\n",
    "\n",
    "$env:PSModulePath = ( ($env:PSModulePath.Split(';')) + $pwd ) -join ';'\n",
    "\n",
    "$ProgressPreference = 'SilentlyContinue'\n",
    "\n",
    "$PSDefaultParameterValues[\"Out-Default:OutVariable\"] = \"__\"\n",
    "$PSDefaultParameterValues[\"Install-Module:Scope\"] = \"CurrentUser\"\n",
    "$PSDefaultParameterValues[\"Install-Module:Repository\"] = \"PSGallery\""
   ]
  }
 ],
 "metadata": {
  "kernelspec": {
   "display_name": ".NET (C#)",
   "language": "C#",
   "name": ".net-csharp"
  },
  "language_info": {
   "name": "csharp"
  },
  "polyglot_notebook": {
   "kernelInfo": {
    "defaultKernelName": "csharp",
    "items": [
     {
      "aliases": [],
      "name": "csharp"
     }
    ]
   }
  }
 },
 "nbformat": 4,
 "nbformat_minor": 2
}
