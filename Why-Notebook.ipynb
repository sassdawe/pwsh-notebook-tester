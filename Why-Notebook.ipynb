{
 "cells": [
  {
   "cell_type": "markdown",
   "metadata": {},
   "source": [
    "# Why Notebooks?\n",
    "\n",
    "## They have their own unique process\n",
    "\n",
    "## They are like browser profiles\n",
    "\n",
    "## By default, they don't load any profiles"
   ]
  },
  {
   "cell_type": "code",
   "execution_count": 2,
   "metadata": {
    "dotnet_interactive": {
     "language": "pwsh"
    },
    "polyglot_notebook": {
     "kernelName": "pwsh"
    },
    "vscode": {
     "languageId": "polyglot-notebook"
    }
   },
   "outputs": [
    {
     "name": "stdout",
     "output_type": "stream",
     "text": [
      "29876\r\n"
     ]
    }
   ],
   "source": [
    "$pid"
   ]
  },
  {
   "cell_type": "code",
   "execution_count": 3,
   "metadata": {
    "dotnet_interactive": {
     "language": "pwsh"
    },
    "polyglot_notebook": {
     "kernelName": "pwsh"
    },
    "vscode": {
     "languageId": "polyglot-notebook"
    }
   },
   "outputs": [
    {
     "name": "stdout",
     "output_type": "stream",
     "text": [
      "\n",
      "\u001b[32;1mPath\u001b[0m\n",
      "\u001b[32;1m----\u001b[0m\n",
      "C:\\source\\github-sassdawe\\2024\\DavidSass\\PowerShellNotebooks_everywhere\n",
      "\n"
     ]
    }
   ],
   "source": [
    "pwd"
   ]
  },
  {
   "cell_type": "code",
   "execution_count": 33,
   "metadata": {
    "dotnet_interactive": {
     "language": "pwsh"
    },
    "polyglot_notebook": {
     "kernelName": "pwsh"
    },
    "vscode": {
     "languageId": "polyglot-notebook"
    }
   },
   "outputs": [
    {
     "name": "stdout",
     "output_type": "stream",
     "text": [
      "C:\\Users\\SassDavid\\.nuget\\packages\\microsoft.dotnet-interactive\\1.0.522904\\tools\\net8.0\\any\\runtimes\\win\\lib\\net8.0\r\n"
     ]
    }
   ],
   "source": [
    "$PSHOME"
   ]
  },
  {
   "cell_type": "code",
   "execution_count": null,
   "metadata": {
    "dotnet_interactive": {
     "language": "pwsh"
    },
    "polyglot_notebook": {
     "kernelName": "pwsh"
    },
    "vscode": {
     "languageId": "polyglot-notebook"
    }
   },
   "outputs": [
    {
     "name": "stdout",
     "output_type": "stream",
     "text": [
      "Is there a profile?\n",
      "False\n"
     ]
    }
   ],
   "source": [
    "\"Is there a profile?\"\n",
    "\n",
    "Test-Path $PROFILE"
   ]
  },
  {
   "cell_type": "code",
   "execution_count": 13,
   "metadata": {
    "dotnet_interactive": {
     "language": "pwsh"
    },
    "polyglot_notebook": {
     "kernelName": "pwsh"
    },
    "vscode": {
     "languageId": "polyglot-notebook"
    }
   },
   "outputs": [
    {
     "name": "stdout",
     "output_type": "stream",
     "text": [
      "\n",
      "   TypeName: System.String\n",
      "\n",
      "\u001b[32;1mName                  \u001b[0m\u001b[32;1m MemberType  \u001b[0m\u001b[32;1m Definition\u001b[0m\n",
      "\u001b[32;1m----                  \u001b[0m \u001b[32;1m----------  \u001b[0m \u001b[32;1m----------\u001b[0m\n",
      "AllUsersCurrentHost    NoteProperty string AllUsersCurrentHost=C:\\Users\\SassDavid\\.nuget\\packages\\…\n",
      "CurrentUserCurrentHost NoteProperty string CurrentUserCurrentHost=C:\\Users\\SassDavid\\OneDrive - Ko…\n",
      "\n",
      "AllUsersCurrentHost\n",
      "C:\\Users\\SassDavid\\.nuget\\packages\\microsoft.dotnet-interactive\\1.0.522904\\tools\\net8.0\\any\\runtimes\\win\\lib\\net8.0\\Microsoft.dotnet-interactive_profile.ps1\n",
      "\n",
      "CurrentUserCurrentHost\n",
      "C:\\Users\\SassDavid\\OneDrive - Kolis HQ\\Dokumentumok\\PowerShell\\Microsoft.dotnet-interactive_profile.ps1\n",
      "\n"
     ]
    }
   ],
   "source": [
    "$PROFILE | Get-Member -MemberType NoteProperty\n",
    "\n",
    "\"`nAllUsersCurrentHost\"\n",
    "$PROFILE.AllUsersCurrentHost\n",
    "\n",
    "\"`nCurrentUserCurrentHost\"\n",
    "$PROFILE.CurrentUserCurrentHost"
   ]
  },
  {
   "cell_type": "markdown",
   "metadata": {},
   "source": [
    "### Variables are \"global\" inside a notebook, they are shared between code blocks"
   ]
  },
  {
   "cell_type": "code",
   "execution_count": 26,
   "metadata": {
    "dotnet_interactive": {
     "language": "pwsh"
    },
    "polyglot_notebook": {
     "kernelName": "pwsh"
    },
    "vscode": {
     "languageId": "polyglot-notebook"
    }
   },
   "outputs": [
    {
     "name": "stdout",
     "output_type": "stream",
     "text": [
      "\u001b[31;1mGet-Variable: \u001b[0m\n",
      "\u001b[31;1m\u001b[36;1mLine |\u001b[0m\n",
      "\u001b[31;1m\u001b[36;1m\u001b[36;1m   3 | \u001b[0m \u001b[36;1mGet-Variable Notebook_scoped_varible\u001b[0m\n",
      "\u001b[31;1m\u001b[36;1m\u001b[36;1m\u001b[0m\u001b[36;1m\u001b[0m\u001b[36;1m     | \u001b[31;1m ~~~~~~~~~~~~~~~~~~~~~~~~~~~~~~~~~~~~\u001b[0m\n",
      "\u001b[31;1m\u001b[36;1m\u001b[36;1m\u001b[0m\u001b[36;1m\u001b[0m\u001b[36;1m\u001b[31;1m\u001b[31;1m\u001b[36;1m     | \u001b[31;1mCannot find a variable with the name 'Notebook_scoped_varible'.\u001b[0m\n"
     ]
    },
    {
     "ename": "Error",
     "evalue": "Command failed: SubmitCode: Remove-Variable -Name Notebook_scoped_varible -Err ...",
     "output_type": "error",
     "traceback": [
      "Command failed: SubmitCode: Remove-Variable -Name Notebook_scoped_varible -Err ..."
     ]
    }
   ],
   "source": [
    "Remove-Variable -Name Notebook_scoped_varible -ErrorAction SilentlyContinue\n",
    "\n",
    "Get-Variable Notebook_scoped_varible"
   ]
  },
  {
   "cell_type": "code",
   "execution_count": 29,
   "metadata": {
    "dotnet_interactive": {
     "language": "pwsh"
    },
    "polyglot_notebook": {
     "kernelName": "pwsh"
    },
    "vscode": {
     "languageId": "polyglot-notebook"
    }
   },
   "outputs": [],
   "source": [
    "$Notebook_scoped_varible = \"This is a notebook scoped variable\""
   ]
  },
  {
   "cell_type": "code",
   "execution_count": 30,
   "metadata": {
    "dotnet_interactive": {
     "language": "pwsh"
    },
    "polyglot_notebook": {
     "kernelName": "pwsh"
    },
    "vscode": {
     "languageId": "polyglot-notebook"
    }
   },
   "outputs": [
    {
     "name": "stdout",
     "output_type": "stream",
     "text": [
      "\n",
      "\u001b[32;1mName                          \u001b[0m\u001b[32;1m Value\u001b[0m\n",
      "\u001b[32;1m----                          \u001b[0m \u001b[32;1m-----\u001b[0m\n",
      "Notebook_scoped_varible        This is a notebook scoped variable\n",
      "\n"
     ]
    }
   ],
   "source": [
    "Get-Variable Notebook_scoped_varible"
   ]
  },
  {
   "cell_type": "markdown",
   "metadata": {},
   "source": [
    "### Variables"
   ]
  },
  {
   "cell_type": "code",
   "execution_count": 31,
   "metadata": {
    "dotnet_interactive": {
     "language": "pwsh"
    },
    "polyglot_notebook": {
     "kernelName": "pwsh"
    },
    "vscode": {
     "languageId": "polyglot-notebook"
    }
   },
   "outputs": [
    {
     "name": "stdout",
     "output_type": "stream",
     "text": [
      "\n",
      "\u001b[32;1mName                          \u001b[0m\u001b[32;1m Value\u001b[0m\n",
      "\u001b[32;1m----                          \u001b[0m \u001b[32;1m-----\u001b[0m\n",
      "?                              True\n",
      "^                              Get-Variable\n",
      "$                              Notebook_scoped_varible\n",
      "args                           {}\n",
      "ConfirmPreference              High\n",
      "DebugPreference                SilentlyContinue\n",
      "EnabledExperimentalFeatures    {}\n",
      "Error                          {Cannot find a variable with the name 'Notebook_scoped_varible'., C…\n",
      "ErrorActionPreference          Continue\n",
      "ErrorView                      ConciseView\n",
      "ExecutionContext               System.Management.Automation.EngineIntrinsics\n",
      "false                          False\n",
      "FormatEnumerationLimit         4\n",
      "HOME                           C:\\Users\\SassDavid\n",
      "Host                           System.Management.Automation.Internal.Host.InternalHost\n",
      "InformationPreference          SilentlyContinue\n",
      "input                          System.Collections.ArrayList+ArrayListEnumeratorSimple\n",
      "IsCoreCLR                      True\n",
      "IsLinux                        False\n",
      "IsMacOS                        False\n",
      "IsWindows                      True\n",
      "MaximumHistoryCount            4096\n",
      "MyInvocation                   System.Management.Automation.InvocationInfo\n",
      "NestedPromptLevel              0\n",
      "Notebook_scoped_varible        This is a notebook scoped variable\n",
      "null                           \n",
      "OutputEncoding                 System.Text.UTF8Encoding+UTF8EncodingSealed\n",
      "PID                            29876\n",
      "PROFILE                        C:\\Users\\SassDavid\\OneDrive - Kolis HQ\\Dokumentumok\\PowerShell\\Micr…\n",
      "ProgressPreference             Continue\n",
      "PSBoundParameters              {}\n",
      "PSCommandPath                  \n",
      "PSCulture                      en\n",
      "PSDefaultParameterValues       {}\n",
      "PSEdition                      Core\n",
      "PSEmailServer                  \n",
      "PSHOME                         C:\\Users\\SassDavid\\.nuget\\packages\\microsoft.dotnet-interactive\\1.0…\n",
      "PSNativeCommandArgumentPassing Windows\n",
      "PSNativeCommandUseErrorAction… False\n",
      "PSScriptRoot                   \n",
      "PSSessionApplicationName       wsman\n",
      "PSSessionConfigurationName     http://schemas.microsoft.com/powershell/Microsoft.PowerShell\n",
      "PSSessionOption                System.Management.Automation.Remoting.PSSessionOption\n",
      "PSStyle                        System.Management.Automation.PSStyle\n",
      "PSUICulture                    en\n",
      "PSVersionTable                 {[PSVersion, 7.4.1], [PSEdition, Core], [GitCommitId, 7.4.1], [OS, …\n",
      "PWD                            C:\\source\\github-sassdawe\\2024\\DavidSass\\PowerShellNotebooks_everyw…\n",
      "ShellId                        Microsoft.PowerShell\n",
      "StackTrace                     \n",
      "true                           True\n",
      "VerbosePreference              SilentlyContinue\n",
      "WarningPreference              Continue\n",
      "WhatIfPreference               False\n",
      "\n"
     ]
    }
   ],
   "source": [
    "Get-ChildItem Variable:\\"
   ]
  }
 ],
 "metadata": {
  "kernelspec": {
   "display_name": ".NET (C#)",
   "language": "C#",
   "name": ".net-csharp"
  },
  "language_info": {
   "name": "csharp"
  },
  "polyglot_notebook": {
   "kernelInfo": {
    "defaultKernelName": "csharp",
    "items": [
     {
      "aliases": [],
      "name": "csharp"
     }
    ]
   }
  }
 },
 "nbformat": 4,
 "nbformat_minor": 2
}
