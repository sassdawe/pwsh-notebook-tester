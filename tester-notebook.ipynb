{
    "cells": [
        {
            "cell_type": "code",
            "execution_count": null,
            "metadata": {
                "dotnet_interactive": {
                    "language": "csharp"
                },
                "polyglot_notebook": {
                    "kernelName": "csharp"
                },
                "vscode": {
                    "languageId": "polyglot-notebook"
                }
            },
            "outputs": [],
            "source": [
                "New-Alias az '/usr/bin/az'\n",
                "\n",
                "Get-Command Az | format-list\n",
                "\n",
                "az account show"
            ]
        },
        {
            "cell_type": "code",
            "execution_count": null,
            "metadata": {
                "vscode": {
                    "languageId": "polyglot-notebook"
                }
            },
            "outputs": [],
            "source": [
                "(az group list) | ConvertFrom-Json | format-table name, location"
            ]
        }
    ],
    "metadata": {
        "kernelspec": {
            "display_name": ".NET (C#)",
            "language": "C#",
            "name": ".net-csharp"
        },
        "language_info": {
            "codemirror_mode": {
                "name": "ipython",
                "version": 3
            },
            "file_extension": ".py",
            "mimetype": "text/x-python",
            "name": "python",
            "nbconvert_exporter": "python",
            "pygments_lexer": "ipython3",
            "version": "3.10.13"
        },
        "polyglot_notebook": {
            "kernelInfo": {
                "defaultKernelName": "csharp",
                "items": [
                    {
                        "aliases": [],
                        "name": "csharp"
                    }
                ]
            }
        }
    },
    "nbformat": 4,
    "nbformat_minor": 2
}
