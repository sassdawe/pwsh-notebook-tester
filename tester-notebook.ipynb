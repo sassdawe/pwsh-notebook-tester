{
    "cells": [
        {
            "cell_type": "markdown",
            "metadata": {
                "azdata_cell_guid": "e6a60096-2e87-4ec4-b36d-d4a198d66240"
            },
            "source": [
                "# Alias provider\n",
                "\n",
                "## Provider name\n",
                "Alias\n",
                "\n",
                "## Drives\n",
                "\n",
                "`Alias:`\n",
                "\n",
                "## Capabilities\n",
                "\n",
                "**ShouldProcess**\n",
                "\n",
                "## Short description\n",
                "\n",
                "Provides access to the PowerShell aliases and the values that they represent.\n",
                "\n",
                "## Detailed description\n",
                "\n",
                "The PowerShell **Alias** provider lets you get, add, change, clear, and delete\n",
                "aliases in PowerShell.\n",
                "\n",
                "An alias is an alternate name for a cmdlet, function, executable file,\n",
                "including scripts. PowerShell includes a set of built-in aliases. You can add\n",
                "your own aliases to the current session and to your PowerShell profile.\n",
                "\n",
                "The **Alias** drive is a flat namespace that contains only the alias objects.\n",
                "The aliases have no child items.\n",
                "\n",
                "The **Alias** provider supports the following cmdlets, which are covered\n",
                "in this article.\n",
                "\n",
                "- [Get-Location]()\n",
                "- [Set-Location]()\n",
                "- [Get-Item]()\n",
                "- [New-Item]()\n",
                "- [Remove-Item]()\n",
                "- [Clear-Item]()\n",
                "\n",
                "PowerShell includes a set of cmdlets that are designed to view and to change\n",
                "aliases. When you use **Alias** cmdlets, you do not need to specify the\n",
                "`Alias:` drive in the name. This article does not cover working with **Alias**\n",
                "cmdlets.\n",
                "\n",
                "- [Export-Alias]()\n",
                "- [Get-Alias]()\n",
                "- [Import-Alias]()\n",
                "- [New-Alias]()\n",
                "- [Set-Alias]()\n",
                "\n",
                "## Types exposed by this provider\n",
                "\n",
                "Each alias is an instance of the\n",
                "[System.Management.Automation.AliasInfo](https://docs.microsoft.com/en-us/dotnet/api/system.management.automation.aliasinfo) class.\n",
                "\n",
                "## Navigating the Alias drive\n",
                "\n",
                "The **Alias** provider exposes its data store in the `Alias:` drive. To work\n",
                "with aliases, you can change your location to the `Alias:` drive by using the\n",
                "following command:\n",
                "\n"
            ]
        },
        {
            "cell_type": "code",
            "execution_count": 1,
            "metadata": {
                "azdata_cell_guid": "609655eb-7002-4970-befb-ddee519a8597",
                "tags": [],
                "vscode": {
                    "languageId": "powershell"
                }
            },
            "outputs": [
                {
                    "ename": "SyntaxError",
                    "evalue": "expected ':' (2563816337.py, line 1)",
                    "output_type": "error",
                    "traceback": [
                        "\u001b[0;36m  Cell \u001b[0;32mIn[1], line 1\u001b[0;36m\u001b[0m\n\u001b[0;31m    try{\u001b[0m\n\u001b[0m       ^\u001b[0m\n\u001b[0;31mSyntaxError\u001b[0m\u001b[0;31m:\u001b[0m expected ':'\n"
                    ]
                }
            ],
            "source": [
                "try{ \n",
                "    if ($IsWindows) { Set-Location C: }\n",
                "    (Get-Location).Path\n",
                "    Set-Location Alias:\n",
                "    (Get-Location).Path\n",
                "} catch {}"
            ]
        },
        {
            "cell_type": "markdown",
            "metadata": {
                "azdata_cell_guid": "4980daf8-6917-41a9-a62b-5da8669a4ebf"
            },
            "source": [
                "To return to a file system drive, type the drive name. For example, type:\n",
                "\n"
            ]
        },
        {
            "cell_type": "code",
            "execution_count": null,
            "metadata": {
                "azdata_cell_guid": "6703df0f-b889-4b62-a6b3-254a3b3c5f87",
                "tags": [],
                "vscode": {
                    "languageId": "powershell"
                }
            },
            "outputs": [],
            "source": [
                "try {\n",
                "    (Get-Location).Path\n",
                "    if ($IsWindows) { Set-Location C: } else { Set-Location / }\n",
                "    (Get-Location).Path\n",
                "} catch {}"
            ]
        },
        {
            "cell_type": "markdown",
            "metadata": {
                "azdata_cell_guid": "b5eaf356-e44e-48a9-9a41-09798c63dd54"
            },
            "source": [
                "You can also work with the Alias provider from any other PowerShell drive. To\n",
                "reference an alias from another location, use the `Alias:` drive name in the\n",
                "path.\n",
                "\n",
                "> [!NOTE]\n",
                "> PowerShell uses aliases to allow you a familiar way to work with provider\n",
                "> paths. Commands such as `dir` and `ls` are now aliases for\n",
                "> [Get-ChildItem](),\n",
                "> `cd` is an alias for [Set-Location](). and `pwd` is\n",
                "> an alias for [Get-Location]().\n",
                "\n",
                "### Displaying the Contents of the Alias: drive\n",
                "\n",
                "This command gets the list of all the aliases when the current location is the\n",
                "`Alias:` drive. It uses a wildcard character `*` to indicate all the contents\n",
                "of the current location.\n",
                "\n",
                "```powershell\n",
                "PS Alias:\\> Get-Item -Path *\n",
                "```\n",
                "\n",
                "In the `Alias:` drive, a dot `.`, which represents the current location, and a\n",
                "wildcard character `*`, which represents all items in the current location,\n",
                "have the same effect. For example, `Get-Item -Path .` or `Get-Item \\*` produce\n",
                "the same result.\n",
                "\n",
                "The Alias provider has no containers, so the above command has the\n",
                "same effect when used with `Get-ChildItem`."
            ]
        },
        {
            "cell_type": "code",
            "execution_count": null,
            "metadata": {
                "azdata_cell_guid": "5bfcdd8e-ec62-47fe-b471-423a2f61ef5f",
                "tags": [],
                "vscode": {
                    "languageId": "powershell"
                }
            },
            "outputs": [],
            "source": [
                "Get-ChildItem -Path Alias:"
            ]
        },
        {
            "cell_type": "markdown",
            "metadata": {
                "azdata_cell_guid": "81c8ce46-fd27-4076-b64f-74469f36558e"
            },
            "source": [
                "### Get a selected alias\n",
                "\n",
                "This command gets the `gm` alias.\n",
                "Because it includes the path, you can use it in any PowerShell drive."
            ]
        },
        {
            "cell_type": "code",
            "execution_count": null,
            "metadata": {
                "azdata_cell_guid": "d3206764-bd3c-4402-8821-d6e741c7c368",
                "tags": [],
                "vscode": {
                    "languageId": "powershell"
                }
            },
            "outputs": [],
            "source": [
                "Get-Item -Path Alias:gm"
            ]
        },
        {
            "cell_type": "markdown",
            "metadata": {
                "azdata_cell_guid": "32736faa-1e33-4f1c-a7f1-6adefc49113b"
            },
            "source": [
                "If you are in the `Alias:` drive, you can omit the drive name from the path.\n",
                "\n",
                "You can also retrieve the definition for an alias by prefixing the provider\n",
                "path with the dollar sign (`$`)."
            ]
        },
        {
            "cell_type": "code",
            "execution_count": null,
            "metadata": {
                "azdata_cell_guid": "8df12d40-fe41-449c-85bc-c73b5efc844e",
                "tags": [],
                "vscode": {
                    "languageId": "powershell"
                }
            },
            "outputs": [],
            "source": [
                "$Alias:gm"
            ]
        },
        {
            "cell_type": "markdown",
            "metadata": {
                "azdata_cell_guid": "21e10da8-406d-4184-8af8-2bdc6883e764"
            },
            "source": [
                "### Get all aliases for a specific cmdlet\n",
                "\n",
                "This command gets a list of the aliases that are associated with the\n",
                "`Get-ChildItem` cmdlet. It uses the **Definition** property, which stores\n",
                "the cmdlet name."
            ]
        },
        {
            "cell_type": "code",
            "execution_count": null,
            "metadata": {
                "azdata_cell_guid": "31946bf9-e9cf-4cf2-bed0-7d22314f7cea",
                "tags": [],
                "vscode": {
                    "languageId": "powershell"
                }
            },
            "outputs": [],
            "source": [
                "Get-Item -Path Alias:* | Where-Object {$_.Definition -eq \"Get-ChildItem\"}"
            ]
        },
        {
            "cell_type": "markdown",
            "metadata": {
                "azdata_cell_guid": "aeaede80-7b0d-4933-86f0-647392baad4a"
            },
            "source": [
                "## Creating aliases\n",
                "\n",
                "### Create an alias from the Alias: drive\n",
                "\n",
                "This command creates the `serv` alias for the `Get-Service` cmdlet. Because the\n",
                "current location is in the `Alias:` drive, the `-Path` parameter is not\n",
                "needed.\n",
                "\n",
                "This command also uses the `-Options` dynamic parameter to set the **AllScope**\n",
                "option on the alias. The `-Options` parameter is available in\n",
                "the `New-Item` cmdlet only when you are in the `Alias:` drive. The dot (`.`)\n",
                "indicates the current directory, which is the alias drive.\n",
                "\n",
                "```\n",
                "PS Alias:\\> New-Item -Path . -Name serv -Value Get-Service -Options \"AllScope\"\n",
                "```\n",
                "\n",
                "### Create an alias with an absolute path\n",
                "\n",
                "You can create an alias for any item that invokes a command.\n",
                "This command creates the `np` alias for `Notepad.exe`.\n"
            ]
        },
        {
            "cell_type": "code",
            "execution_count": null,
            "metadata": {
                "azdata_cell_guid": "5edd0dc6-5f19-4b42-ae20-cb0f4b6bafe0",
                "tags": [],
                "vscode": {
                    "languageId": "powershell"
                }
            },
            "outputs": [],
            "source": [
                "try {\n",
                "    if ($IsWindows) {\n",
                "        New-Item -Path Alias:np -Value c:\\windows\\notepad.exe\n",
                "    }\n",
                "} catch {}"
            ]
        },
        {
            "cell_type": "markdown",
            "metadata": {
                "azdata_cell_guid": "23d55662-7bf6-47c4-87ef-f76364beeb6d"
            },
            "source": [
                "### Create an alias to a new function\n",
                "\n",
                "You can create an alias for any function. You can use this feature to create an\n",
                "alias that includes both a cmdlet and its parameters.\n",
                "\n",
                "The first command creates the `CD32` function, which changes the current\n",
                "directory to the `System32` directory. The second command creates the `go`\n",
                "alias for the `CD32` function.\n",
                "\n",
                "When the command is complete, you can use either `CD32` or `go` to invoke the\n",
                "function.\n",
                "\n",
                "```powershell\n",
                "function CD32 {Set-Location -Path c:\\windows\\system32}\n",
                "Set-Item -Path Alias:go -Value CD32\n",
                "```"
            ]
        },
        {
            "cell_type": "markdown",
            "metadata": {
                "azdata_cell_guid": "ffe7b5cf-f7f6-441b-aa07-a9d65878f439"
            },
            "source": [
                "### Change an aliases referenced command\n",
                "\n",
                "This command uses the `Set-Item` cmdlet to change the `gp` alias so that it\n",
                "represents the `Get-Process` cmdlet instead of the `Get-ItemProperty` cmdlet.\n",
                "The `-Force` parameter is required because the value of the **Options**\n",
                "property of the `gp` alias is set to `ReadOnly`. Because the command is\n",
                "submitted from within the `Alias:` drive, the drive is not specified in the\n",
                "path.\n",
                "\n",
                "```powershell\n",
                "Set-Item -Path gp -Value Get-Process -Force\n",
                "```\n",
                "\n",
                "The change affects the four properties that define the association between the\n",
                "alias and the command. To view the effect of the change, type the following\n",
                "command:\n",
                "\n",
                "```powershell\n",
                "Get-Item -Path gp | Format-List -Property *\n",
                "```"
            ]
        },
        {
            "cell_type": "code",
            "execution_count": null,
            "metadata": {
                "azdata_cell_guid": "4e0de128-0e85-47b0-a0e1-3c522893e7f2",
                "tags": [],
                "vscode": {
                    "languageId": "powershell"
                }
            },
            "outputs": [],
            "source": [
                "Set-Item -Path gp -Value Get-Process -Force -ErrorAction SilentlyContinue\n",
                "Get-Item -Path gp | Format-List -Property * -ErrorAction SilentlyContinue"
            ]
        },
        {
            "cell_type": "markdown",
            "metadata": {
                "azdata_cell_guid": "f4c501b2-53f2-4d70-b88c-6df462299abf"
            },
            "source": [
                "### Rename an alias\n",
                "\n",
                "This command uses the `Rename-Item` cmdlet to change the `popd` alias to `pop`.\n",
                "\n",
                "```powershell\n",
                "Rename-Item -Path Alias:popd -NewName pop\n",
                "```"
            ]
        },
        {
            "cell_type": "markdown",
            "metadata": {
                "azdata_cell_guid": "ff939ef9-ae15-4687-90cf-02c041ffdd4f"
            },
            "source": [
                "### Rename an alias\n",
                "\n",
                "This command uses the `Rename-Item` cmdlet to change the `popd` alias to `pop`.\n",
                "\n",
                "```powershell\n",
                "Rename-Item -Path Alias:popd -NewName pop\n",
                "```\n",
                "\n",
                "## Copying an alias\n",
                "\n",
                "This command copies the `pushd` alias so that a new `push` alias is created for\n",
                "the `Push-Location` cmdlet.\n",
                "\n",
                "When the new alias is created, its **Description** property has a null value.\n",
                "And, its **Option** property has a value of `None`. If the command is issued\n",
                "from within the `Alias:` drive, you can omit the drive name from the value of\n",
                "the `-Path` parameter.\n",
                "\n",
                "```powershell\n",
                "Copy-Item -Path Alias:pushd -Destination Alias:push\n",
                "```\n",
                "\n",
                "## Deleting an alias\n",
                "\n",
                "This command deletes the `serv` alias from the current session.\n",
                "You can use this command in any PowerShell drive.\n",
                "\n",
                "```powershell\n",
                "Remove-Item -Path Alias:serv\n",
                "```\n",
                "\n",
                "This command deletes aliases that begin with \"s\".\n",
                "It does not delete read-only aliases.\n",
                "\n",
                "```powershell\n",
                "Clear-Item -Path Alias:s*\n",
                "```\n",
                "\n",
                "### Delete read-only aliases\n",
                "\n",
                "This command deletes all aliases from the current session, except those with a\n",
                "value of `Constant` for their **Options** property. The `-Force`\n",
                "parameter allows the command to delete aliases whose **Options** property has a\n",
                "value of `ReadOnly`.\n",
                "\n",
                "```powershell\n",
                "Remove-Item Alias:* -Force\n",
                "```"
            ]
        },
        {
            "cell_type": "markdown",
            "metadata": {
                "azdata_cell_guid": "4f2de1f8-0ef5-4a73-91c5-7a78e79076d1"
            },
            "source": [
                "## Dynamic parameters\n",
                "\n",
                "Dynamic parameters are cmdlet parameters that are added by a PowerShell\n",
                "provider and are available only when the cmdlet is being used in the\n",
                "provider-enabled drive.\n",
                "\n",
                "### Options [System.Management.Automation.ScopedItemOptions]\n",
                "\n",
                "Determines the value of the **Options** property of an alias.\n",
                "\n",
                "- **None**: No options. This value is the default.\n",
                "- **Constant**:The alias cannot be deleted and its properties cannot be changed.\n",
                "  **Constant** is available only when you create an alias. You cannot change the\n",
                "  option of an existing alias to **Constant**.\n",
                "- **Private**:The alias is visible only in the current scope, not in the child\n",
                "   scopes.\n",
                "- **ReadOnly**:The properties of the alias cannot be changed except by using the\n",
                "  `-Force` parameter. You can use `Remove-Item` to delete the alias.\n",
                "- **AllScope**:The alias is copied to any new scopes that are created.\n",
                "\n",
                "#### Cmdlets supported\n",
                "\n",
                "- [New-Item](../../Microsoft.PowerShell.Management/New-Item.md)\n",
                "- [Set-Item](../../Microsoft.PowerShell.Management/Set-Item.md)\n",
                "\n",
                "## Using the pipeline\n",
                "\n",
                "Provider cmdlets accept pipeline input. You can use the pipeline to simplify\n",
                "task by sending provider data from one cmdlet to another provider cmdlet.\n",
                "To read more about how to use the pipeline with provider cmdlets, see the\n",
                "cmdlet references provided throughout this article.\n",
                "\n",
                "## Getting help\n",
                "\n",
                "Beginning in Windows PowerShell 3.0, you can get customized help topics for\n",
                "provider cmdlets that explain how those cmdlets behave in a file system drive.\n",
                "\n",
                "To get the help topics that are customized for the file system drive, run a\n",
                "[Get-Help](../Get-Help.md) command in a file system drive or use the `-Path`\n",
                "parameter of [Get-Help](../Get-Help.md) to specify a file system drive."
            ]
        },
        {
            "cell_type": "code",
            "execution_count": null,
            "metadata": {
                "azdata_cell_guid": "7e1fbc61-3824-4999-9ff2-d63b7dc16cf7",
                "tags": [],
                "vscode": {
                    "languageId": "powershell"
                }
            },
            "outputs": [],
            "source": [
                "Get-Help Get-ChildItem"
            ]
        },
        {
            "cell_type": "code",
            "execution_count": null,
            "metadata": {
                "azdata_cell_guid": "9685f391-1305-4509-ae0e-02b50a3d35a1",
                "tags": [],
                "vscode": {
                    "languageId": "powershell"
                }
            },
            "outputs": [],
            "source": [
                "Get-Help Get-ChildItem -Path alias:"
            ]
        },
        {
            "cell_type": "markdown",
            "metadata": {
                "azdata_cell_guid": "e23a9fdb-5bc6-4e02-a5dc-3726d6765492"
            },
            "source": [
                "## See also\n",
                "\n",
                "[about_Aliases]()\n",
                "\n",
                "[about_Providers](\n",
                ")"
            ]
        }
    ],
    "metadata": {
        "kernelspec": {
            "display_name": "Python 3 (ipykernel)",
            "language": "python",
            "name": "python3"
        },
        "language_info": {
            "codemirror_mode": {
                "name": "ipython",
                "version": 3
            },
            "file_extension": ".py",
            "mimetype": "text/x-python",
            "name": "python",
            "nbconvert_exporter": "python",
            "pygments_lexer": "ipython3",
            "version": "3.10.13"
        }
    },
    "nbformat": 4,
    "nbformat_minor": 2
}
